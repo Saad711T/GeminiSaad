{
 "cells": [
  {
   "cell_type": "markdown",
   "id": "a4dddc77",
   "metadata": {},
   "source": [
    "# GeminiSaad in Jupyter Notebook"
   ]
  },
  {
   "cell_type": "markdown",
   "id": "40177405",
   "metadata": {},
   "source": [
    "## Import Libraries :"
   ]
  },
  {
   "cell_type": "code",
   "execution_count": null,
   "id": "64d2fe13",
   "metadata": {},
   "outputs": [],
   "source": [
    "\n",
    "import google.generativeai as ai\n",
    "import google.generativeai.gemini as gemini\n",
    "import random as rm\n",
    "from chatterbot import ChatBot\n",
    "from chatterbot.trainers import ChatterBotCorpusTrainer"
   ]
  },
  {
   "cell_type": "markdown",
   "id": "021a5c00",
   "metadata": {},
   "source": [
    "## Code"
   ]
  },
  {
   "cell_type": "code",
   "execution_count": null,
   "id": "b9c4a325",
   "metadata": {},
   "outputs": [],
   "source": [
    "# Find your API key at console.cloud.google.com/apis/credentials\n",
    "API_KEY = 'API_KEY'\n",
    "\n",
    "# Configure the AI model\n",
    "ai.configure(api_key=API_KEY)\n",
    "\n",
    "# Create a new AI model\n",
    "model = gemini.Model()\n",
    "chat = model.start_chat()\n",
    "\n",
    "# Start a conversation\n",
    "while True:\n",
    "    user_input = input('You: ')\n",
    "    response = chat.send(user_input)\n",
    "    print('Gemini: ' + response)\n",
    "    if user_input == 'exit':\n",
    "        break\n",
    "    response = chat.send(user_input)\n",
    "    print('Gemini: ' + response)"
   ]
  },
  {
   "cell_type": "markdown",
   "id": "4870df00",
   "metadata": {},
   "source": [
    "### Credits :"
   ]
  },
  {
   "cell_type": "code",
   "execution_count": null,
   "id": "184cb505",
   "metadata": {},
   "outputs": [],
   "source": [
    "\n",
    "# Made by : Saad Almalki\n",
    "# this model not made it by me from zero , just forked from google gemini .\n",
    "# Copyright by : Google\n"
   ]
  }
 ],
 "metadata": {
  "kernelspec": {
   "display_name": "Python 3",
   "language": "python",
   "name": "python3"
  },
  "language_info": {
   "codemirror_mode": {
    "name": "ipython",
    "version": 3
   },
   "file_extension": ".py",
   "mimetype": "text/x-python",
   "name": "python",
   "nbconvert_exporter": "python",
   "pygments_lexer": "ipython3",
   "version": "3.12.9"
  }
 },
 "nbformat": 4,
 "nbformat_minor": 5
}
